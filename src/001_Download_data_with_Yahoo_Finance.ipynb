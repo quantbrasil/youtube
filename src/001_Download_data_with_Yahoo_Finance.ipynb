{
  "cells": [
    {
      "cell_type": "markdown",
      "metadata": {
        "colab_type": "text",
        "id": "view-in-github"
      },
      "source": [
        "<a href=\"https://colab.research.google.com/github/quantbrasil/youtube/blob/master/src/001_Download_data_with_Yahoo_Finance.ipynb\" target=\"_parent\"><img src=\"https://colab.research.google.com/assets/colab-badge.svg\" alt=\"Open In Colab\"/></a>"
      ]
    },
    {
      "cell_type": "code",
      "execution_count": 2,
      "metadata": {
        "colab": {
          "base_uri": "https://localhost:8080/"
        },
        "id": "wRYLiYSdB_kl",
        "outputId": "9ee8acfe-3212-4ac8-da81-69b9b9f90bd7"
      },
      "outputs": [],
      "source": [
        "%%capture\n",
        "%pip install yfinance"
      ]
    },
    {
      "cell_type": "code",
      "execution_count": 3,
      "metadata": {
        "colab": {
          "base_uri": "https://localhost:8080/"
        },
        "id": "UliWWpWTCD1Q",
        "outputId": "6d65661c-6d13-4c63-adfe-0869279668ef"
      },
      "outputs": [
        {
          "name": "stdout",
          "output_type": "stream",
          "text": [
            "YF.download() has changed argument auto_adjust default to True\n"
          ]
        },
        {
          "name": "stderr",
          "output_type": "stream",
          "text": [
            "[*********************100%***********************]  1 of 1 completed\n"
          ]
        },
        {
          "data": {
            "text/plain": [
              "MultiIndex([( 'Close', 'PETR4.SA'),\n",
              "            (  'High', 'PETR4.SA'),\n",
              "            (   'Low', 'PETR4.SA'),\n",
              "            (  'Open', 'PETR4.SA'),\n",
              "            ('Volume', 'PETR4.SA')],\n",
              "           names=['Price', 'Ticker'])"
            ]
          },
          "execution_count": 3,
          "metadata": {},
          "output_type": "execute_result"
        }
      ],
      "source": [
        "import yfinance as yf\n",
        "\n",
        "df = yf.download(\"PETR4.SA\", start=\"2025-01-01\", end=\"2025-02-16\")\n",
        "df.columns"
      ]
    },
    {
      "cell_type": "code",
      "execution_count": 4,
      "metadata": {
        "colab": {
          "base_uri": "https://localhost:8080/"
        },
        "id": "lCICnYXVCgn3",
        "outputId": "eee67bdd-26a4-4ed8-f50a-342ab6b2acf6"
      },
      "outputs": [
        {
          "name": "stdout",
          "output_type": "stream",
          "text": [
            "{\n",
            "    \"currency\": \"BRL\",\n",
            "    \"dayHigh\": 37.91999816894531,\n",
            "    \"dayLow\": 37.470001220703125,\n",
            "    \"exchange\": \"SAO\",\n",
            "    \"fiftyDayAverage\": 37.37900001525879,\n",
            "    \"lastPrice\": 37.81999969482422,\n",
            "    \"lastVolume\": 13599600,\n",
            "    \"marketCap\": 513088815121.2422,\n",
            "    \"open\": 37.63999938964844,\n",
            "    \"previousClose\": 37.52000045776367,\n",
            "    \"quoteType\": \"EQUITY\",\n",
            "    \"regularMarketPreviousClose\": 37.439998626708984,\n",
            "    \"shares\": 13566600192,\n",
            "    \"tenDayAverageVolume\": 24580420,\n",
            "    \"threeMonthAverageVolume\": 30672678,\n",
            "    \"timezone\": \"America/Sao_Paulo\",\n",
            "    \"twoHundredDayAverage\": 37.517700004577634,\n",
            "    \"yearChange\": -0.1272727903255724,\n",
            "    \"yearHigh\": 42.939998626708984,\n",
            "    \"yearLow\": 34.150001525878906\n",
            "}\n"
          ]
        }
      ],
      "source": [
        "petr4 = yf.Ticker(\"PETR4.SA\")\n",
        "\n",
        "info = petr4.fast_info.toJSON()\n",
        "print(info)"
      ]
    },
    {
      "cell_type": "code",
      "execution_count": 5,
      "metadata": {
        "colab": {
          "base_uri": "https://localhost:8080/"
        },
        "id": "exSWzUdkCoha",
        "outputId": "0cebd44e-8256-475d-fc09-dd06c24d8d28"
      },
      "outputs": [
        {
          "data": {
            "text/plain": [
              "Index(['Open', 'High', 'Low', 'Close', 'Volume', 'Dividends', 'Stock Splits'], dtype='object')"
            ]
          },
          "execution_count": 5,
          "metadata": {},
          "output_type": "execute_result"
        }
      ],
      "source": [
        "df = petr4.history(start=\"2025-01-01\", end=\"2025-02-16\")\n",
        "df.columns"
      ]
    },
    {
      "cell_type": "code",
      "execution_count": 6,
      "metadata": {
        "colab": {
          "base_uri": "https://localhost:8080/",
          "height": 237
        },
        "id": "qn-_43VaCp74",
        "outputId": "8987bb71-ffc0-4269-b48a-23ed51096627"
      },
      "outputs": [
        {
          "data": {
            "text/html": [
              "<div>\n",
              "<style scoped>\n",
              "    .dataframe tbody tr th:only-of-type {\n",
              "        vertical-align: middle;\n",
              "    }\n",
              "\n",
              "    .dataframe tbody tr th {\n",
              "        vertical-align: top;\n",
              "    }\n",
              "\n",
              "    .dataframe thead th {\n",
              "        text-align: right;\n",
              "    }\n",
              "</style>\n",
              "<table border=\"1\" class=\"dataframe\">\n",
              "  <thead>\n",
              "    <tr style=\"text-align: right;\">\n",
              "      <th></th>\n",
              "      <th>Open</th>\n",
              "      <th>High</th>\n",
              "      <th>Low</th>\n",
              "      <th>Close</th>\n",
              "      <th>Volume</th>\n",
              "      <th>Dividends</th>\n",
              "      <th>Stock Splits</th>\n",
              "    </tr>\n",
              "    <tr>\n",
              "      <th>Date</th>\n",
              "      <th></th>\n",
              "      <th></th>\n",
              "      <th></th>\n",
              "      <th></th>\n",
              "      <th></th>\n",
              "      <th></th>\n",
              "      <th></th>\n",
              "    </tr>\n",
              "  </thead>\n",
              "  <tbody>\n",
              "    <tr>\n",
              "      <th>2025-02-10 00:00:00-03:00</th>\n",
              "      <td>36.810001</td>\n",
              "      <td>37.029999</td>\n",
              "      <td>36.720001</td>\n",
              "      <td>36.830002</td>\n",
              "      <td>17483300</td>\n",
              "      <td>0.0</td>\n",
              "      <td>0.0</td>\n",
              "    </tr>\n",
              "    <tr>\n",
              "      <th>2025-02-11 00:00:00-03:00</th>\n",
              "      <td>37.009998</td>\n",
              "      <td>37.090000</td>\n",
              "      <td>36.680000</td>\n",
              "      <td>36.830002</td>\n",
              "      <td>16624300</td>\n",
              "      <td>0.0</td>\n",
              "      <td>0.0</td>\n",
              "    </tr>\n",
              "    <tr>\n",
              "      <th>2025-02-12 00:00:00-03:00</th>\n",
              "      <td>36.650002</td>\n",
              "      <td>36.750000</td>\n",
              "      <td>36.110001</td>\n",
              "      <td>36.279999</td>\n",
              "      <td>37364500</td>\n",
              "      <td>0.0</td>\n",
              "      <td>0.0</td>\n",
              "    </tr>\n",
              "    <tr>\n",
              "      <th>2025-02-13 00:00:00-03:00</th>\n",
              "      <td>36.200001</td>\n",
              "      <td>36.330002</td>\n",
              "      <td>36.020000</td>\n",
              "      <td>36.320000</td>\n",
              "      <td>15351300</td>\n",
              "      <td>0.0</td>\n",
              "      <td>0.0</td>\n",
              "    </tr>\n",
              "    <tr>\n",
              "      <th>2025-02-14 00:00:00-03:00</th>\n",
              "      <td>36.439999</td>\n",
              "      <td>37.580002</td>\n",
              "      <td>36.400002</td>\n",
              "      <td>37.439999</td>\n",
              "      <td>40322000</td>\n",
              "      <td>0.0</td>\n",
              "      <td>0.0</td>\n",
              "    </tr>\n",
              "  </tbody>\n",
              "</table>\n",
              "</div>"
            ],
            "text/plain": [
              "                                Open       High        Low      Close  \\\n",
              "Date                                                                    \n",
              "2025-02-10 00:00:00-03:00  36.810001  37.029999  36.720001  36.830002   \n",
              "2025-02-11 00:00:00-03:00  37.009998  37.090000  36.680000  36.830002   \n",
              "2025-02-12 00:00:00-03:00  36.650002  36.750000  36.110001  36.279999   \n",
              "2025-02-13 00:00:00-03:00  36.200001  36.330002  36.020000  36.320000   \n",
              "2025-02-14 00:00:00-03:00  36.439999  37.580002  36.400002  37.439999   \n",
              "\n",
              "                             Volume  Dividends  Stock Splits  \n",
              "Date                                                          \n",
              "2025-02-10 00:00:00-03:00  17483300        0.0           0.0  \n",
              "2025-02-11 00:00:00-03:00  16624300        0.0           0.0  \n",
              "2025-02-12 00:00:00-03:00  37364500        0.0           0.0  \n",
              "2025-02-13 00:00:00-03:00  15351300        0.0           0.0  \n",
              "2025-02-14 00:00:00-03:00  40322000        0.0           0.0  "
            ]
          },
          "execution_count": 6,
          "metadata": {},
          "output_type": "execute_result"
        }
      ],
      "source": [
        "df.tail()"
      ]
    }
  ],
  "metadata": {
    "colab": {
      "authorship_tag": "ABX9TyOPFkU8daapLUxzQRRNF/nA",
      "include_colab_link": true,
      "provenance": []
    },
    "kernelspec": {
      "display_name": "Python 3",
      "name": "python3"
    },
    "language_info": {
      "codemirror_mode": {
        "name": "ipython",
        "version": 3
      },
      "file_extension": ".py",
      "mimetype": "text/x-python",
      "name": "python",
      "nbconvert_exporter": "python",
      "pygments_lexer": "ipython3",
      "version": "3.12.6"
    }
  },
  "nbformat": 4,
  "nbformat_minor": 0
}
